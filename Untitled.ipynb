{
 "cells": [
  {
   "cell_type": "code",
   "execution_count": 10,
   "id": "a1cd3df0-57bc-4c93-9024-374e2c61a8c6",
   "metadata": {},
   "outputs": [],
   "source": [
    "import numpy as np\n",
    "import matplotlib.pyplot as plt\n",
    "plt.style.use('fivethirtyeight')\n",
    "import pandas as pd\n",
    "import tf_idf.core as tf_idf"
   ]
  },
  {
   "cell_type": "code",
   "execution_count": 11,
   "id": "82c80c3d-dc20-4e27-a348-1f59279f20c2",
   "metadata": {},
   "outputs": [
    {
     "data": {
      "text/plain": [
       "\"|    | DOCUMENT             | LOWERCASE            | CLEANING             | TOKENIZATION                      | STOP-WORDS                 | STEMMING                 |     frog |     high |     jump |    turtl |    COSIM |\\n|---:|:---------------------|:---------------------|:---------------------|:----------------------------------|:---------------------------|:-------------------------|---------:|---------:|---------:|---------:|---------:|\\n|  0 | The frog jumped      | the frog jumped      | the frog jumped      | ['the', 'frog', 'jumped']         | ['frog', 'jumped']         | ['frog', 'jump']         | 0.789807 | 0        | 0.613356 | 0        | 1        |\\n|  1 | The frog jumped high | the frog jumped high | the frog jumped high | ['the', 'frog', 'jumped', 'high'] | ['frog', 'jumped', 'high'] | ['frog', 'jump', 'high'] | 0.547832 | 0.720333 | 0.425441 | 0        | 0.693628 |\\n|  2 | The turtle jumped    | the turtle jumped    | the turtle jumped    | ['the', 'turtle', 'jumped']       | ['turtle', 'jumped']       | ['turtl', 'jump']        | 0        | 0        | 0.508542 | 0.861037 | 0.311917 |\""
      ]
     },
     "execution_count": 11,
     "metadata": {},
     "output_type": "execute_result"
    }
   ],
   "source": [
    "text_00 = 'The frog jumped'\n",
    "text_01 = 'The frog jumped high'\n",
    "text_02 = 'The turtle jumped'\n",
    "\n",
    "compare_simple = tf_idf.preprocess_text(text_00)\n",
    "compare_simple = pd.concat([compare_simple, tf_idf.preprocess_text(text_01)], \n",
    "                    ignore_index=True)\n",
    "compare_simple = pd.concat([compare_simple, tf_idf.preprocess_text(text_02)], \n",
    "                    ignore_index=True)\n",
    "output = tf_idf.calculate_tfidf(compare_simple)\n",
    "tf_idf_values = output.iloc[:, 6:].values\n",
    "output['COSIM'] = tf_idf.cosineSimilarity(compare_simple)['COSIM']\n",
    "output.to_markdown()"
   ]
  },
  {
   "cell_type": "code",
   "execution_count": 12,
   "id": "e72efe4e-d300-4646-b7ac-9e1b59bda087",
   "metadata": {},
   "outputs": [
    {
     "data": {
      "text/plain": [
       "0    1.000000\n",
       "1    0.693628\n",
       "2    0.311917\n",
       "Name: COSIM, dtype: float64"
      ]
     },
     "execution_count": 12,
     "metadata": {},
     "output_type": "execute_result"
    }
   ],
   "source": [
    "tf_idf.cosineSimilarity(compare_simple)['COSIM']"
   ]
  },
  {
   "cell_type": "markdown",
   "id": "1ed3f069-18e0-4069-a00f-2f66951f5fd7",
   "metadata": {},
   "source": [
    "|    | DOCUMENT             | LOWERCASE            | CLEANING             | TOKENIZATION                      | STOP-WORDS                 | STEMMING                 |     frog |     high |     jump |    turtl |    COSIM |\n",
    "|---:|:---------------------|:---------------------|:---------------------|:----------------------------------|:---------------------------|:-------------------------|---------:|---------:|---------:|---------:|---------:|\n",
    "|  0 | The frog jumped      | the frog jumped      | the frog jumped      | ['the', 'frog', 'jumped']         | ['frog', 'jumped']         | ['frog', 'jump']         | 0.789807 | 0        | 0.613356 | 0        | 1        |\n",
    "|  1 | The frog jumped high | the frog jumped high | the frog jumped high | ['the', 'frog', 'jumped', 'high'] | ['frog', 'jumped', 'high'] | ['frog', 'jump', 'high'] | 0.547832 | 0.720333 | 0.425441 | 0        | 0.693628 |\n",
    "|  2 | The turtle jumped    | the turtle jumped    | the turtle jumped    | ['the', 'turtle', 'jumped']       | ['turtle', 'jumped']       | ['turtl', 'jump']        | 0        | 0        | 0.508542 | 0.861037 | 0.311917 |"
   ]
  },
  {
   "cell_type": "code",
   "execution_count": 15,
   "id": "1310b1af-6d8d-4989-90c3-b3b8835d8fe4",
   "metadata": {},
   "outputs": [],
   "source": [
    "from sklearn.metrics.pairwise import cosine_similarity"
   ]
  },
  {
   "cell_type": "code",
   "execution_count": 27,
   "id": "3146c434-edf5-41e1-9c3d-196f113b9394",
   "metadata": {},
   "outputs": [
    {
     "name": "stderr",
     "output_type": "stream",
     "text": [
      "/tmp/ipykernel_46883/3918384049.py:4: DeprecationWarning: Conversion of an array with ndim > 0 to a scalar is deprecated, and will error in future. Ensure you extract a single element from your array before performing this operation. (Deprecated NumPy 1.25.)\n",
      "  results[i, j] = cosine_similarity(tf_idf_values[i, :].reshape(1,-1),\n",
      "/tmp/ipykernel_46883/3918384049.py:4: DeprecationWarning: Conversion of an array with ndim > 0 to a scalar is deprecated, and will error in future. Ensure you extract a single element from your array before performing this operation. (Deprecated NumPy 1.25.)\n",
      "  results[i, j] = cosine_similarity(tf_idf_values[i, :].reshape(1,-1),\n",
      "/tmp/ipykernel_46883/3918384049.py:4: DeprecationWarning: Conversion of an array with ndim > 0 to a scalar is deprecated, and will error in future. Ensure you extract a single element from your array before performing this operation. (Deprecated NumPy 1.25.)\n",
      "  results[i, j] = cosine_similarity(tf_idf_values[i, :].reshape(1,-1),\n",
      "/tmp/ipykernel_46883/3918384049.py:4: DeprecationWarning: Conversion of an array with ndim > 0 to a scalar is deprecated, and will error in future. Ensure you extract a single element from your array before performing this operation. (Deprecated NumPy 1.25.)\n",
      "  results[i, j] = cosine_similarity(tf_idf_values[i, :].reshape(1,-1),\n",
      "/tmp/ipykernel_46883/3918384049.py:4: DeprecationWarning: Conversion of an array with ndim > 0 to a scalar is deprecated, and will error in future. Ensure you extract a single element from your array before performing this operation. (Deprecated NumPy 1.25.)\n",
      "  results[i, j] = cosine_similarity(tf_idf_values[i, :].reshape(1,-1),\n",
      "/tmp/ipykernel_46883/3918384049.py:4: DeprecationWarning: Conversion of an array with ndim > 0 to a scalar is deprecated, and will error in future. Ensure you extract a single element from your array before performing this operation. (Deprecated NumPy 1.25.)\n",
      "  results[i, j] = cosine_similarity(tf_idf_values[i, :].reshape(1,-1),\n",
      "/tmp/ipykernel_46883/3918384049.py:4: DeprecationWarning: Conversion of an array with ndim > 0 to a scalar is deprecated, and will error in future. Ensure you extract a single element from your array before performing this operation. (Deprecated NumPy 1.25.)\n",
      "  results[i, j] = cosine_similarity(tf_idf_values[i, :].reshape(1,-1),\n",
      "/tmp/ipykernel_46883/3918384049.py:4: DeprecationWarning: Conversion of an array with ndim > 0 to a scalar is deprecated, and will error in future. Ensure you extract a single element from your array before performing this operation. (Deprecated NumPy 1.25.)\n",
      "  results[i, j] = cosine_similarity(tf_idf_values[i, :].reshape(1,-1),\n",
      "/tmp/ipykernel_46883/3918384049.py:4: DeprecationWarning: Conversion of an array with ndim > 0 to a scalar is deprecated, and will error in future. Ensure you extract a single element from your array before performing this operation. (Deprecated NumPy 1.25.)\n",
      "  results[i, j] = cosine_similarity(tf_idf_values[i, :].reshape(1,-1),\n"
     ]
    }
   ],
   "source": [
    "results = np.zeros((3, 3))\n",
    "for i in range(0, 3):\n",
    "    for j in range(0, 3):\n",
    "        results[i, j] = cosine_similarity(tf_idf_values[i, :].reshape(1,-1), \n",
    "                                          tf_idf_values[j, :].reshape(1,-1))"
   ]
  },
  {
   "cell_type": "code",
   "execution_count": 40,
   "id": "dbc45964-c8b9-4cbb-b4b9-40dee88875ea",
   "metadata": {},
   "outputs": [
    {
     "data": {
      "image/png": "[encoded data removed]",
      "text/plain": [
       "<Figure size 640x480 with 2 Axes>"
      ]
     },
     "metadata": {},
     "output_type": "display_data"
    }
   ],
   "source": [
    "fig = plt.figure()\n",
    "ax = fig.add_subplot(111)\n",
    "# c = ax.pcolor(results[::2, ::2], edgecolors='k', linewidths=4)\n",
    "ax.set_title('Compare sentences')\n",
    "\n",
    "fig.tight_layout()\n",
    "\n",
    "\n",
    "# plt.contourf(results[::2, ::2])\n",
    "# c = ax1.pcolorfast(results, cmap='RdBu', vmin=0, vmax=1)\n",
    "xv, yv = np.meshgrid(np.arange(3),np.arange(3))\n",
    "cax = ax.pcolormesh(xv,yv,np.log(results), cmap='viridis', vmin=-7, vmax=0)\n",
    "cbar = fig.colorbar(cax)\n",
    "plt.show()"
   ]
  },
  {
   "cell_type": "code",
   "execution_count": 31,
   "id": "7517052e-c4c1-41a4-a050-c1e9387a85f7",
   "metadata": {},
   "outputs": [
    {
     "data": {
      "text/plain": [
       "array([[ 0.00000000e+00, -3.65819569e-01, -1.16501736e+00],\n",
       "       [-3.65819569e-01,  2.22044605e-16, -1.53083693e+00],\n",
       "       [-1.16501736e+00, -1.53083693e+00,  0.00000000e+00]])"
      ]
     },
     "execution_count": 31,
     "metadata": {},
     "output_type": "execute_result"
    }
   ],
   "source": [
    "np.log(results)"
   ]
  },
  {
   "cell_type": "code",
   "execution_count": null,
   "id": "cca049f3-7519-4911-a0e8-7417b668e366",
   "metadata": {},
   "outputs": [],
   "source": []
  }
 ],
 "metadata": {
  "kernelspec": {
   "display_name": "Python 3 (ipykernel)",
   "language": "python",
   "name": "python3"
  },
  "language_info": {
   "codemirror_mode": {
    "name": "ipython",
    "version": 3
   },
   "file_extension": ".py",
   "mimetype": "text/x-python",
   "name": "python",
   "nbconvert_exporter": "python",
   "pygments_lexer": "ipython3",
   "version": "3.10.14"
  }
 },
 "nbformat": 4,
 "nbformat_minor": 5
}
