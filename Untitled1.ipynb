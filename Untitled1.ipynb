{
 "cells": [
  {
   "cell_type": "code",
   "execution_count": null,
   "id": "3f59319a-579a-41f4-a410-ebfc6d4c25b9",
   "metadata": {},
   "outputs": [],
   "source": []
  },
  {
   "cell_type": "code",
   "execution_count": 6,
   "id": "891ac475-da54-42f9-bc28-9df9aa75f416",
   "metadata": {},
   "outputs": [
    {
     "name": "stdout",
     "output_type": "stream",
     "text": [
      "1\n",
      "2\n",
      "Fizz\n",
      "4\n",
      "Buzz\n",
      "Fizz\n",
      "7\n",
      "8\n",
      "Fizz\n",
      "Buzz\n",
      "11\n",
      "Fizz\n",
      "13\n",
      "14\n",
      "FizzBuzz\n"
     ]
    }
   ],
   "source": [
    "def fizzbuzz(total_count):\n",
    "    '''this is a fizz-buzz function that starts \n",
    "    at 1 and goes to \n",
    "    `total_count`\n",
    "    e.g. \n",
    "    \n",
    "    >>> fizzbuzz(15)\n",
    "    1\n",
    "    2\n",
    "    Fizz\n",
    "    4\n",
    "    Buzz\n",
    "    Fizz\n",
    "    7\n",
    "    8\n",
    "    Fizz\n",
    "    Buzz\n",
    "    11\n",
    "    Fizz\n",
    "    13\n",
    "    14\n",
    "    FizzBuzz\n",
    "    '''\n",
    "    for count in range(1, total_count + 1):\n",
    "        if count % 15 == 0:\n",
    "            print(\"FizzBuzz\")\n",
    "        elif count % 3 == 0:\n",
    "            print(\"Fizz\")\n",
    "        elif count % 5 == 0:\n",
    "            print(\"Buzz\")\n",
    "        else:\n",
    "            print(count)\n",
    "\n",
    "# Example usage:\n",
    "fizzbuzz(15)\n"
   ]
  },
  {
   "cell_type": "code",
   "execution_count": null,
   "id": "33e25a2b-1650-41d8-acdf-56055f400773",
   "metadata": {},
   "outputs": [],
   "source": []
  }
 ],
 "metadata": {
  "kernelspec": {
   "display_name": "Python 3 (ipykernel)",
   "language": "python",
   "name": "python3"
  },
  "language_info": {
   "codemirror_mode": {
    "name": "ipython",
    "version": 3
   },
   "file_extension": ".py",
   "mimetype": "text/x-python",
   "name": "python",
   "nbconvert_exporter": "python",
   "pygments_lexer": "ipython3",
   "version": "3.10.14"
  }
 },
 "nbformat": 4,
 "nbformat_minor": 5
}
